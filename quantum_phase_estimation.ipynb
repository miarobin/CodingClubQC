{
 "cells": [
  {
   "cell_type": "markdown",
   "id": "ee753850",
   "metadata": {},
   "source": [
    "# Quantum Phase Estimation\n",
    "\n",
    "The Quantum Fourier Transform is key to *phase estimation*, which is in turn important for many quantum algorithms (including Shor's algorithm).\n",
    "\n",
    "Suppose you have a unitary operator $U$, with eigenvector $|\\psi\\rangle$ and eigenvalue $e^{2i\\theta}$, the algorithm estimates the value of $\\theta$. "
   ]
  },
  {
   "cell_type": "markdown",
   "id": "6d887868",
   "metadata": {},
   "source": [
    "## How This Works\n",
    "\n",
    "### 1. The Circuit\n",
    "The general quantum circuit for phase estimation is shown below. The top register contains $t$ *counting* qubits, and the bottom contains qubits in the state $|\\psi\\rangle$:\n",
    "\n",
    "**Note** The choice of $t$ will affect how accurate the phase estimation is, and the success probability of the algorithm. You will see how in task b) below.\n",
    "\n",
    "\n",
    "![image1](images/qpe_tex_qz.png)\n",
    "\n"
   ]
  },
  {
   "cell_type": "markdown",
   "id": "016d6e90",
   "metadata": {},
   "source": [
    "### 2. How The Circuit Works\n",
    "\n",
    "i. **Setup**: $\\vert\\psi\\rangle$ is in one set of qubit registers. An additional set of $n$ qubits form the counting register on which we will store the value $2^n\\theta$: \n",
    "\n",
    "\n",
    "\n",
    "$$ |\\psi_0\\rangle = \\lvert 0 \\rangle^{\\otimes n} \\lvert \\psi \\rangle$$\n",
    "\n",
    " \n",
    "\n",
    "ii. **Superposition**: Apply a $n$-bit Hadamard gate operation $H^{\\otimes n}$ on the counting register: \n",
    "\n",
    "\n",
    "\n",
    "$$ |\\psi_1\\rangle = {\\frac {1}{2^{\\frac {n}{2}}}}\\left(|0\\rangle +|1\\rangle \\right)^{\\otimes n} \\lvert \\psi \\rangle$$\n",
    "\n",
    "\n",
    "\n",
    "iii. **Controlled Unitary Operations**: Recall the controlled unitary $CU$ applies the unitary operator $U$ on the target register only if its corresponding control bit is $|1\\rangle$. Applying all the $n$ controlled operations $CU^{2^j}$ with $0\\leq j\\leq n-1$:\n",
    "\n",
    "\\begin{aligned}\n",
    "|\\psi_{2}\\rangle & =\\frac {1}{2^{\\frac {n}{2}}} \\left(|0\\rangle+{e^{\\boldsymbol{2\\pi i} \\theta 2^{n-1}}}|1\\rangle \\right) \\otimes \\cdots \\otimes \\left(|0\\rangle+{e^{\\boldsymbol{2\\pi i} \\theta 2^{1}}}\\vert1\\rangle \\right) \\otimes \\left(|0\\rangle+{e^{\\boldsymbol{2\\pi i} \\theta 2^{0}}}\\vert1\\rangle \\right) \\otimes |\\psi\\rangle\\\\\\\\\n",
    "& = \\frac{1}{2^{\\frac {n}{2}}}\\sum _{k=0}^{2^{n}-1}e^{\\boldsymbol{2\\pi i} \\theta k}|k\\rangle \\otimes \\vert\\psi\\rangle\n",
    "\\end{aligned}\n",
    "where $k$ denotes the integer representation of n-bit binary numbers. \n",
    "\n",
    "iv. **Inverse Fourier Transform**: Notice that the above expression is exactly the result of applying a quantum Fourier transform. Recall that QFT maps an n-qubit input state $\\vert x\\rangle$ into an output as\n",
    "\n",
    "$$\n",
    "QFT\\vert x \\rangle = \\frac{1}{2^\\frac{n}{2}}\n",
    "\\left(\\vert0\\rangle + e^{\\frac{2\\pi i}{2}x} \\vert1\\rangle\\right) \n",
    "\\otimes\n",
    "\\left(\\vert0\\rangle + e^{\\frac{2\\pi i}{2^2}x} \\vert1\\rangle\\right) \n",
    "\\otimes  \n",
    "\\ldots\n",
    "\\otimes\n",
    "\\left(\\vert0\\rangle + e^{\\frac{2\\pi i}{2^{n-1}}x} \\vert1\\rangle\\right) \n",
    "\\otimes\n",
    "\\left(\\vert0\\rangle + e^{\\frac{2\\pi i}{2^n}x} \\vert1\\rangle\\right) \n",
    "$$\n",
    "\n",
    "Replacing $x$ with $2^n\\theta$ in the above expression gives exactly the expression for the counting qubits in $|\\phi_2 \\rangle$. Therefore, to recover the state $\\vert2^n\\theta\\rangle$, apply an inverse Fourier transform on the counting register. We find:\n",
    "\n",
    "$$\n",
    "\\vert\\psi_3\\rangle = \\frac {1}{2^{\\frac {n}{2}}}\\sum _{k=0}^{2^{n}-1}e^{\\boldsymbol{2\\pi i} \\theta k}|k\\rangle \\otimes | \\psi \\rangle \\xrightarrow{\\mathcal{QFT}_n^{-1}} \\frac {1}{2^n}\\sum _{x=0}^{2^{n}-1}\\sum _{k=0}^{2^{n}-1} e^{-\\frac{2\\pi i k}{2^n}(x - 2^n \\theta)} |x\\rangle \\otimes |\\psi\\rangle\n",
    "$$ \n",
    "\n",
    "v. **Measurement**: \n",
    "The above expression peaks near $x = 2^n\\theta$. For the case where $2^n\\theta$ is an integer, measuring in the computational basis gives the phase in the counting register with high probability: \n",
    "\n",
    "\n",
    "\n",
    "$$ |\\psi_4\\rangle = | 2^n \\theta \\rangle \\otimes | \\psi \\rangle$$\n",
    "\n",
    "\n",
    "\n",
    "For the case when $2^n\\theta$ is not an integer, it can be shown that the above expression still peaks near $x = 2^n\\theta$ with probability better than $4/\\pi^2 \\approx 40\\%$."
   ]
  },
  {
   "cell_type": "markdown",
   "id": "df6e7560",
   "metadata": {},
   "source": [
    "## Tasks\n",
    "1. Perform phase estimation on the T-gate, on the state $|1\\rangle$:\n",
    "$$ T|1\\rangle = \n",
    "\\begin{bmatrix}\n",
    "1 & 0\\\\\n",
    "0 & e^\\frac{i\\pi}{4}\\\\ \n",
    "\\end{bmatrix}\n",
    "\\begin{bmatrix}\n",
    "0\\\\\n",
    "1\\\\ \n",
    "\\end{bmatrix}\n",
    "= e^\\frac{i\\pi}{4}|1\\rangle $$\n",
    "Using three qubits, the result will be exact. Note that you can easily invert the quantum circuit with qiskit using the function `QuantumCircuit.inverse()`.\n",
    "\n",
    "\n",
    "2. Perform phase estimation on a phase rotation gate of $\\theta = \\pi/3$. Do this using the qiskit gate `QuantumCircuit.cp(angle, control_qubit, target_qubit)`. What happens if you use 3 qubits in the counting register? What happens when you increase the number of qubits?\n",
    "\n",
    "\n",
    "3. You can either try the same thing as above, but using different gates (CNOT, Controlled-$T^\\dagger$, or Controlled-Y gate). Or if you want to see how Shor's algorithm works, continue to the next notebook."
   ]
  },
  {
   "cell_type": "code",
   "execution_count": null,
   "id": "951a86c0",
   "metadata": {},
   "outputs": [],
   "source": []
  }
 ],
 "metadata": {
  "kernelspec": {
   "display_name": "Python 3 (ipykernel)",
   "language": "python",
   "name": "python3"
  },
  "language_info": {
   "codemirror_mode": {
    "name": "ipython",
    "version": 3
   },
   "file_extension": ".py",
   "mimetype": "text/x-python",
   "name": "python",
   "nbconvert_exporter": "python",
   "pygments_lexer": "ipython3",
   "version": "3.9.9"
  }
 },
 "nbformat": 4,
 "nbformat_minor": 5
}
