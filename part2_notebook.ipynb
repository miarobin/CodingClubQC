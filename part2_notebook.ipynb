{
 "cells": [
  {
   "cell_type": "markdown",
   "id": "6799906c",
   "metadata": {},
   "source": [
    "# Building a Toffoli Gate.\n",
    "Follow this notebook to create a toffoli gate from.\n",
    "\n",
    "## Create the circuit."
   ]
  },
  {
   "cell_type": "code",
   "execution_count": 1,
   "id": "78c82ef2",
   "metadata": {},
   "outputs": [],
   "source": [
    "#Begin with some simple imports\n",
    "import numpy as np\n",
    "from qiskit import *"
   ]
  },
  {
   "cell_type": "markdown",
   "id": "db8f74c4",
   "metadata": {},
   "source": [
    "We want to perform the Toffoli gate action: if the first two bits are both set to 1, it inverts the third bit, otherwise all bits stay the same. "
   ]
  },
  {
   "cell_type": "code",
   "execution_count": 2,
   "id": "2b33a187",
   "metadata": {},
   "outputs": [
    {
     "data": {
      "image/png": "[encoded data removed]",
      "text/plain": [
       "<Figure size 146.797x204.68 with 1 Axes>"
      ]
     },
     "execution_count": 2,
     "metadata": {},
     "output_type": "execute_result"
    }
   ],
   "source": [
    "#Using the inbuilt Toffoli gate.\n",
    "toff = QuantumCircuit(3)\n",
    "a = 0\n",
    "b = 1\n",
    "t = 2\n",
    "# Toffoli with control qubits a and b and target t\n",
    "toff.ccx(a,b,t)\n",
    "toff.draw('mpl')"
   ]
  },
  {
   "cell_type": "markdown",
   "id": "d1b82aa2",
   "metadata": {},
   "source": [
    "It is possible to create the toffoli gate with many different combinations of gates. You can create it using 2 controlled Hadamard gates `QuantumCircuit.ch(control,target)` & one controlled Z gate `QuantumCircuit.cz(control,target)`. \n",
    "\n",
    "Create your circuit in the box below. Test your gate by bit flipping the control qubits with a Pauli X-gate.\n",
    "\n",
    "Think about this a little - what would two Hadamards & a Z gate do to a qubit?"
   ]
  },
  {
   "cell_type": "code",
   "execution_count": 3,
   "id": "a941a49f",
   "metadata": {},
   "outputs": [],
   "source": [
    "# Create a Quantum Circuit acting on a quantum register of three qubits\n",
    "circ = QuantumCircuit(3)\n",
    "\n",
    "#Now create your circuit here:"
   ]
  },
  {
   "cell_type": "code",
   "execution_count": 4,
   "id": "97b2e678",
   "metadata": {},
   "outputs": [
    {
     "data": {
      "image/png": "[encoded data removed]",
      "text/plain": [
       "<Figure size 116.697x204.68 with 1 Axes>"
      ]
     },
     "execution_count": 4,
     "metadata": {},
     "output_type": "execute_result"
    }
   ],
   "source": [
    "circ.draw('mpl')"
   ]
  },
  {
   "cell_type": "markdown",
   "id": "33d43f73",
   "metadata": {},
   "source": [
    "## Simulate the circuit.\n",
    "\n",
    "### Statevector Backend:"
   ]
  },
  {
   "cell_type": "code",
   "execution_count": 5,
   "id": "ff4997fd",
   "metadata": {},
   "outputs": [],
   "source": [
    "# Import Aer\n",
    "from qiskit import Aer\n",
    "\n",
    "# Run the quantum circuit on a statevector simulator backend\n",
    "backend = Aer.get_backend('statevector_simulator')\n",
    "\n",
    "# Create a Quantum Program for execution \n",
    "job = backend.run(circ)\n",
    "\n",
    "# Get the state vector for the quantum circuit\n",
    "outstate = job.result().get_statevector(circ)"
   ]
  },
  {
   "cell_type": "markdown",
   "id": "48da10f2",
   "metadata": {},
   "source": [
    "### Unitary Backend:\n",
    "A visualisation of the circuit you've created."
   ]
  },
  {
   "cell_type": "code",
   "execution_count": 6,
   "id": "dc480bae",
   "metadata": {},
   "outputs": [
    {
     "name": "stdout",
     "output_type": "stream",
     "text": [
      "Operator([[1.+0.j, 0.+0.j, 0.+0.j, 0.+0.j, 0.+0.j, 0.+0.j, 0.+0.j, 0.+0.j],\n",
      "          [0.+0.j, 1.+0.j, 0.+0.j, 0.+0.j, 0.+0.j, 0.+0.j, 0.+0.j, 0.+0.j],\n",
      "          [0.+0.j, 0.+0.j, 1.+0.j, 0.+0.j, 0.+0.j, 0.+0.j, 0.+0.j, 0.+0.j],\n",
      "          [0.+0.j, 0.+0.j, 0.+0.j, 1.+0.j, 0.+0.j, 0.+0.j, 0.+0.j, 0.+0.j],\n",
      "          [0.+0.j, 0.+0.j, 0.+0.j, 0.+0.j, 1.+0.j, 0.+0.j, 0.+0.j, 0.+0.j],\n",
      "          [0.+0.j, 0.+0.j, 0.+0.j, 0.+0.j, 0.+0.j, 1.+0.j, 0.+0.j, 0.+0.j],\n",
      "          [0.+0.j, 0.+0.j, 0.+0.j, 0.+0.j, 0.+0.j, 0.+0.j, 1.+0.j, 0.+0.j],\n",
      "          [0.+0.j, 0.+0.j, 0.+0.j, 0.+0.j, 0.+0.j, 0.+0.j, 0.+0.j, 1.+0.j]],\n",
      "         input_dims=(2, 2, 2), output_dims=(2, 2, 2))\n"
     ]
    }
   ],
   "source": [
    "# Run the quantum circuit on a unitary simulator backend\n",
    "backend = Aer.get_backend('unitary_simulator')\n",
    "job = backend.run(circ)\n",
    "result = job.result()\n",
    "\n",
    "# Show the results\n",
    "print(result.get_unitary(circ, decimals=3))"
   ]
  },
  {
   "cell_type": "markdown",
   "id": "b248effe",
   "metadata": {},
   "source": [
    "### OpenQASM Backend:\n",
    "Now simulate a *measurement* of the qubits in the register. Add a 3 qubit classical register, and map the three qubit measurements to the classical bits."
   ]
  },
  {
   "cell_type": "code",
   "execution_count": 7,
   "id": "f4dc2549",
   "metadata": {},
   "outputs": [
    {
     "data": {
      "image/png": "[encoded data removed]",
      "text/plain": [
       "<Figure size 327.397x264.88 with 1 Axes>"
      ]
     },
     "execution_count": 7,
     "metadata": {},
     "output_type": "execute_result"
    }
   ],
   "source": [
    "# Create a Quantum Circuit with 3 quantum bits & 3 classical bits.\n",
    "meas = QuantumCircuit(3, 3)\n",
    "meas.barrier(range(3))\n",
    "# map the quantum measurement to the classical bits\n",
    "meas.measure(range(3), range(3))\n",
    "\n",
    "# The Qiskit circuit object supports composition using\n",
    "# the addition operator.\n",
    "circ.add_register(meas.cregs[0])\n",
    "qc = circ.compose(meas)\n",
    "\n",
    "#drawing the circuit\n",
    "qc.draw('mpl')"
   ]
  },
  {
   "cell_type": "code",
   "execution_count": 8,
   "id": "8e83c317",
   "metadata": {},
   "outputs": [],
   "source": [
    "# Use Aer's qasm_simulator\n",
    "backend_sim = Aer.get_backend('qasm_simulator')\n",
    "\n",
    "# Execute the circuit on the qasm simulator.\n",
    "# We've set the number of repeats of the circuit\n",
    "# to be 1024, which is the default.\n",
    "job_sim = backend_sim.run(transpile(qc, backend_sim), shots=1024)\n",
    "\n",
    "# Grab the results from the job.\n",
    "result_sim = job_sim.result()"
   ]
  },
  {
   "cell_type": "markdown",
   "id": "91e2309a",
   "metadata": {},
   "source": [
    "Now we access the counts from the circuit via `get_counts(qc)`. We can plot this in a nice histogram with `plot_histogram`:"
   ]
  },
  {
   "cell_type": "code",
   "execution_count": 9,
   "id": "e7eef9b4",
   "metadata": {},
   "outputs": [
    {
     "name": "stdout",
     "output_type": "stream",
     "text": [
      "{'000': 1024}\n"
     ]
    },
    {
     "data": {
      "image/png": "[encoded data removed]",
      "text/plain": [
       "<Figure size 504x360 with 1 Axes>"
      ]
     },
     "execution_count": 9,
     "metadata": {},
     "output_type": "execute_result"
    }
   ],
   "source": [
    "from qiskit.visualization import plot_histogram\n",
    "\n",
    "counts = result_sim.get_counts(qc)\n",
    "print(counts)\n",
    "\n",
    "plot_histogram(counts)"
   ]
  }
 ],
 "metadata": {
  "kernelspec": {
   "display_name": "Python 3 (ipykernel)",
   "language": "python",
   "name": "python3"
  },
  "language_info": {
   "codemirror_mode": {
    "name": "ipython",
    "version": 3
   },
   "file_extension": ".py",
   "mimetype": "text/x-python",
   "name": "python",
   "nbconvert_exporter": "python",
   "pygments_lexer": "ipython3",
   "version": "3.9.9"
  }
 },
 "nbformat": 4,
 "nbformat_minor": 5
}
