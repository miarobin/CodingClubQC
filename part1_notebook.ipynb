{
 "cells": [
  {
   "cell_type": "markdown",
   "id": "6799906c",
   "metadata": {},
   "source": [
    "# Building a Basic Circuit.\n",
    "Follow this notebook to create a basic circuit.\n",
    "\n",
    "## Create the circuit."
   ]
  },
  {
   "cell_type": "code",
   "execution_count": 1,
   "id": "78c82ef2",
   "metadata": {},
   "outputs": [],
   "source": [
    "#Begin with some simple imports\n",
    "import numpy as np\n",
    "from qiskit import *"
   ]
  },
  {
   "cell_type": "markdown",
   "id": "4d5da52f",
   "metadata": {},
   "source": [
    "Now creating a `QuantumCircuit` object, of 3 qubits."
   ]
  },
  {
   "cell_type": "code",
   "execution_count": 2,
   "id": "8b7959b8",
   "metadata": {},
   "outputs": [],
   "source": [
    "# Create a Quantum Circuit acting on a quantum register of three qubits\n",
    "circ = QuantumCircuit(3)"
   ]
  },
  {
   "cell_type": "markdown",
   "id": "db8f74c4",
   "metadata": {},
   "source": [
    "Now we want to add some gates to the quantum circuit, to make what's known as the three-qubit GHZ state:\n",
    "\\begin{equation}\n",
    "|\\psi\\rangle = \\left(|000\\rangle+|111\\rangle\\right)/\\sqrt{2}.\n",
    "\\end{equation}\n",
    "By default, every qubit in the register is initialized to $|0\\rangle$."
   ]
  },
  {
   "cell_type": "code",
   "execution_count": 3,
   "id": "72479667",
   "metadata": {},
   "outputs": [
    {
     "data": {
      "text/plain": [
       "<qiskit.circuit.instructionset.InstructionSet at 0x7f4744ce40c0>"
      ]
     },
     "execution_count": 3,
     "metadata": {},
     "output_type": "execute_result"
    }
   ],
   "source": [
    "# Add a H gate on qubit 0, putting this qubit in superposition.\n",
    "circ.h(0)\n",
    "# Add a CX (CNOT) gate on control qubit 0 and target qubit 1, putting\n",
    "# the qubits in a Bell state.\n",
    "circ.cx(0, 1)\n",
    "# Add a CX (CNOT) gate on control qubit 0 and target qubit 2, putting\n",
    "# the qubits in a GHZ state.\n",
    "circ.cx(0, 2)"
   ]
  },
  {
   "cell_type": "markdown",
   "id": "7558e138",
   "metadata": {},
   "source": [
    "Qiskit will draw your circuit when you run `QuantumCircuit.draw()`. The `'mpl'` argument draws the circuit in a nice way."
   ]
  },
  {
   "cell_type": "code",
   "execution_count": 4,
   "id": "97b2e678",
   "metadata": {},
   "outputs": [
    {
     "data": {
      "image/png": "[encoded data removed]",
      "text/plain": [
       "<Figure size 267.197x204.68 with 1 Axes>"
      ]
     },
     "execution_count": 4,
     "metadata": {},
     "output_type": "execute_result"
    }
   ],
   "source": [
    "circ.draw('mpl')"
   ]
  },
  {
   "cell_type": "markdown",
   "id": "33d43f73",
   "metadata": {},
   "source": [
    "## Simulate the circuit.\n",
    "\n",
    "### Statevector Backend:"
   ]
  },
  {
   "cell_type": "markdown",
   "id": "4d1a04ba",
   "metadata": {},
   "source": [
    "The `statevector_simulator` returns the statevector for the circuit, i.e. a $2^n$ complex vector, for $n$ qubits."
   ]
  },
  {
   "cell_type": "code",
   "execution_count": 5,
   "id": "ff4997fd",
   "metadata": {},
   "outputs": [],
   "source": [
    "# Import Aer\n",
    "from qiskit import Aer\n",
    "\n",
    "# Run the quantum circuit on a statevector simulator backend\n",
    "backend = Aer.get_backend('statevector_simulator')"
   ]
  },
  {
   "cell_type": "markdown",
   "id": "dd79aacc",
   "metadata": {},
   "source": [
    "Now compile & run the quantum circuit. This is done by running the `execute` function, which then returns a `job` object. The `job` object contains information about the backend. \n",
    "\n",
    "The `result` object contains the data, which we extract with the `get_statevector(circ)` function."
   ]
  },
  {
   "cell_type": "code",
   "execution_count": 6,
   "id": "282d0f5d",
   "metadata": {},
   "outputs": [],
   "source": [
    "# Create a Quantum Program for execution \n",
    "job = backend.run(circ)\n",
    "\n",
    "# Get the state vector for the quantum circuit\n",
    "outstate = job.result().get_statevector(circ)"
   ]
  },
  {
   "cell_type": "markdown",
   "id": "48da10f2",
   "metadata": {},
   "source": [
    "### Unitary Backend:\n",
    "`unitary_simulator` calculates a $2^n \\times 2^n$ matrix representing the quantum circuit *provided all elements in the circuit are unitary operations*."
   ]
  },
  {
   "cell_type": "code",
   "execution_count": 7,
   "id": "dc480bae",
   "metadata": {},
   "outputs": [
    {
     "name": "stdout",
     "output_type": "stream",
     "text": [
      "Operator([[ 0.707+0.j,  0.707-0.j,  0.   +0.j,  0.   +0.j,  0.   +0.j,\n",
      "            0.   +0.j,  0.   +0.j,  0.   +0.j],\n",
      "          [ 0.   +0.j,  0.   +0.j,  0.   +0.j,  0.   +0.j,  0.   +0.j,\n",
      "            0.   +0.j,  0.707+0.j, -0.707+0.j],\n",
      "          [ 0.   +0.j,  0.   +0.j,  0.707+0.j,  0.707-0.j,  0.   +0.j,\n",
      "            0.   +0.j,  0.   +0.j,  0.   +0.j],\n",
      "          [ 0.   +0.j,  0.   +0.j,  0.   +0.j,  0.   +0.j,  0.707+0.j,\n",
      "           -0.707+0.j,  0.   +0.j,  0.   +0.j],\n",
      "          [ 0.   +0.j,  0.   +0.j,  0.   +0.j,  0.   +0.j,  0.707+0.j,\n",
      "            0.707-0.j,  0.   +0.j,  0.   +0.j],\n",
      "          [ 0.   +0.j,  0.   +0.j,  0.707+0.j, -0.707+0.j,  0.   +0.j,\n",
      "            0.   +0.j,  0.   +0.j,  0.   +0.j],\n",
      "          [ 0.   +0.j,  0.   +0.j,  0.   +0.j,  0.   +0.j,  0.   +0.j,\n",
      "            0.   +0.j,  0.707+0.j,  0.707-0.j],\n",
      "          [ 0.707+0.j, -0.707+0.j,  0.   +0.j,  0.   +0.j,  0.   +0.j,\n",
      "            0.   +0.j,  0.   +0.j,  0.   +0.j]],\n",
      "         input_dims=(2, 2, 2), output_dims=(2, 2, 2))\n"
     ]
    }
   ],
   "source": [
    "# Run the quantum circuit on a unitary simulator backend\n",
    "backend = Aer.get_backend('unitary_simulator')\n",
    "job = backend.run(circ)\n",
    "result = job.result()\n",
    "\n",
    "# Show the results\n",
    "print(result.get_unitary(circ, decimals=3))"
   ]
  },
  {
   "cell_type": "markdown",
   "id": "b248effe",
   "metadata": {},
   "source": [
    "### OpenQASM Backend:\n",
    "We now want to simulate a *measurement* of the qubits in the register, i.e. what we would see coming from a real quantum computer.\n",
    "Recall that if we prepare a quantum state $|\\psi\\rangle$, the probability of obtaining the outcome $|011\\rangle$ from our measurement is:\n",
    "\\begin{equation}\n",
    "P_{011} = |\\langle011|\\psi\\rangle|^2.\n",
    "\\end{equation}\n",
    "For the GHZ state, the probability of obtaining 011 is 0."
   ]
  },
  {
   "cell_type": "markdown",
   "id": "33c66263",
   "metadata": {},
   "source": [
    "Now add a 3 qubit classical register, and map the three qubit measurements to the classical bits."
   ]
  },
  {
   "cell_type": "code",
   "execution_count": 8,
   "id": "f4dc2549",
   "metadata": {},
   "outputs": [
    {
     "data": {
      "image/png": "[encoded data removed]",
      "text/plain": [
       "<Figure size 507.997x264.88 with 1 Axes>"
      ]
     },
     "execution_count": 8,
     "metadata": {},
     "output_type": "execute_result"
    }
   ],
   "source": [
    "# Create a Quantum Circuit with 3 quantum bits & 3 classical bits.\n",
    "meas = QuantumCircuit(3, 3)\n",
    "meas.barrier(range(3))\n",
    "# map the quantum measurement to the classical bits\n",
    "meas.measure(range(3), range(3))\n",
    "\n",
    "# The Qiskit circuit object supports composition using\n",
    "# the addition operator.\n",
    "circ.add_register(meas.cregs[0])\n",
    "qc = circ.compose(meas)\n",
    "\n",
    "#drawing the circuit\n",
    "qc.draw('mpl')"
   ]
  },
  {
   "cell_type": "code",
   "execution_count": 9,
   "id": "8e83c317",
   "metadata": {},
   "outputs": [],
   "source": [
    "# Use Aer's qasm_simulator\n",
    "backend_sim = Aer.get_backend('qasm_simulator')\n",
    "\n",
    "# Execute the circuit on the qasm simulator.\n",
    "# We've set the number of repeats of the circuit\n",
    "# to be 1024, which is the default.\n",
    "job_sim = backend_sim.run(transpile(qc, backend_sim), shots=1024)\n",
    "\n",
    "# Grab the results from the job.\n",
    "result_sim = job_sim.result()"
   ]
  },
  {
   "cell_type": "markdown",
   "id": "91e2309a",
   "metadata": {},
   "source": [
    "Now we access the counts from the circuit via `get_counts(qc)`. We can plot this in a nice histogram with `plot_histogram`:"
   ]
  },
  {
   "cell_type": "code",
   "execution_count": 10,
   "id": "e7eef9b4",
   "metadata": {},
   "outputs": [
    {
     "name": "stdout",
     "output_type": "stream",
     "text": [
      "{'111': 530, '000': 494}\n"
     ]
    },
    {
     "data": {
      "image/png": "[encoded data removed]",
      "text/plain": [
       "<Figure size 504x360 with 1 Axes>"
      ]
     },
     "execution_count": 10,
     "metadata": {},
     "output_type": "execute_result"
    }
   ],
   "source": [
    "from qiskit.visualization import plot_histogram\n",
    "\n",
    "counts = result_sim.get_counts(qc)\n",
    "print(counts)\n",
    "\n",
    "plot_histogram(counts)"
   ]
  },
  {
   "cell_type": "markdown",
   "id": "8a7879d5",
   "metadata": {},
   "source": [
    "Now you're done, come [here]\\() to see your next set of instructions."
   ]
  }
 ],
 "metadata": {
  "kernelspec": {
   "display_name": "Python 3 (ipykernel)",
   "language": "python",
   "name": "python3"
  },
  "language_info": {
   "codemirror_mode": {
    "name": "ipython",
    "version": 3
   },
   "file_extension": ".py",
   "mimetype": "text/x-python",
   "name": "python",
   "nbconvert_exporter": "python",
   "pygments_lexer": "ipython3",
   "version": "3.9.9"
  }
 },
 "nbformat": 4,
 "nbformat_minor": 5
}
