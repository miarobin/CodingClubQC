{
 "cells": [
  {
   "cell_type": "markdown",
   "id": "46f4a5a3",
   "metadata": {},
   "source": [
    "# Shor's Algorithm\n",
    "Shor's algorithm basically comes down to period-finding. Say you have a periodic function:\n",
    "\n",
    "\\begin{equation}\n",
    "f(x) = a^x mod N\n",
    "\\end{equation}\n",
    "\n",
    "where $a, N$ are positive integers with $a<N$ and they have no common factors. The period $r$ is the smallest non-zero integer such that:\n",
    "\n",
    "\\begin{equation}\n",
    "a^r mod N = 1\n",
    "\\end{equation}"
   ]
  },
  {
   "cell_type": "markdown",
   "id": "cbb56bba",
   "metadata": {},
   "source": [
    "## How do we get from a period $r$ to factorisation?\n",
    "So say we want to factor the number $N$ into it's prime factors. The procedure is the following:\n",
    "\n",
    "1. Choose a random number $a$ between 1 and $N-1$.\n",
    "\n",
    "2. Check that $a$ isn't already a non-trivial factor of $N$.\n",
    "\n",
    "3. "
   ]
  },
  {
   "cell_type": "code",
   "execution_count": null,
   "id": "6347bad9",
   "metadata": {},
   "outputs": [],
   "source": []
  }
 ],
 "metadata": {
  "kernelspec": {
   "display_name": "Python 3 (ipykernel)",
   "language": "python",
   "name": "python3"
  },
  "language_info": {
   "codemirror_mode": {
    "name": "ipython",
    "version": 3
   },
   "file_extension": ".py",
   "mimetype": "text/x-python",
   "name": "python",
   "nbconvert_exporter": "python",
   "pygments_lexer": "ipython3",
   "version": "3.9.9"
  }
 },
 "nbformat": 4,
 "nbformat_minor": 5
}
