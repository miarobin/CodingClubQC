{
 "cells": [
  {
   "cell_type": "markdown",
   "id": "46f4a5a3",
   "metadata": {},
   "source": [
    "# Shor's Algorithm\n",
    "Shor's algorithm basically comes down to period-finding. Say you have a periodic function:\n",
    "\n",
    "$$ f(x) = a^x \\bmod N$$\n",
    "\n",
    "where $a, N$ are positive integers with $a<N$ and they have no common factors. The period $r$ is the smallest non-zero integer such that:\n",
    "\n",
    "$$a^r \\bmod N = 1 $$"
   ]
  },
  {
   "cell_type": "markdown",
   "id": "cbb56bba",
   "metadata": {},
   "source": [
    "## How do we get from a period $r$ to factorisation?\n",
    "So say we want to factor the number $N$ into it's prime factors. The procedure is the following:\n",
    "\n",
    "1. Choose a random number $a$ between 1 and $N-1$.\n",
    "\n",
    "2. Check that $a$ isn't already a non-trivial factor of $N$.\n",
    "\n",
    "3. Perform quantum phase estimation to find $r$.\n",
    "\n",
    "4. Notice that \n",
    "\n",
    "    $$(a^r - 1) \\bmod N = 0 $$\n",
    "\n",
    "    i.e. we must have that $N$ must divide into $(a^r - 1)$.\n",
    "    For $r$ being *even*, we have:\n",
    "\n",
    "    $$a^r -1 = (a^{r/2}-1)(a^{r/2}+1)$$\n",
    "    \n",
    "    For $r$ being *odd*, try a different $a$.\n",
    "    \n",
    "5. Now compute the greatest common divisor of $N$ and either $a^{r/2}-1$, or $a^{r/2}+1$, and test to see if either of these is a non-trivial factor. If so, return the factor. Else the algorithm fails.\n",
    "\n",
    "Note there is a probability of at least 1/2 that $r$ is even."
   ]
  },
  {
   "cell_type": "markdown",
   "id": "c35fa550",
   "metadata": {},
   "source": [
    "## How does quantum phase estimation help find $r$?\n",
    "\n",
    "The quantum algorithm to find $r$ is just the phase estimation algorithm applied to the unitary operator\n",
    "\n",
    "$$U|y\\rangle \\equiv |ay(\\bmod N)\\rangle$$.\n",
    "\n",
    "From here, it's clear that an eigenstate of $U$ is:\n",
    "\n",
    "$$\\begin{aligned}\n",
    "|u_s\\rangle &= \\tfrac{1}{\\sqrt{r}}\\sum_{k=0}^{r-1}{e^{-\\tfrac{2\\pi i s k}{r}}|a^k \\bmod N\\rangle}\\\\[10pt]\n",
    "U|u_s\\rangle &= e^{\\tfrac{2\\pi i s}{r}}|u_s\\rangle \n",
    "\\end{aligned}\n",
    "$$\n",
    "\n",
    "We can use the phase estimation algorithm to obtain the corresponding eigenvalues $e^{2\\pi is/r}$, where \n",
    "\n",
    "$$0 \\leq s \\leq r-1.$$\n",
    "\n",
    "We don't want to have to try to construct an individual eigenstate of $U$, since that involves knowing $r$ - i.e. not going to happen. So we have to be a bit clever. Conveniently,\n",
    "\n",
    "$$ \\tfrac{1}{\\sqrt{r}}\\sum_{s=0}^{r-1} |u_s\\rangle = |1\\rangle$$\n",
    "\n",
    "so if we perform quantum phase estimation on $U$, using the state $|1\\rangle$, we measure a phase: $$\\phi = \\frac{s}{r},$$ where $s$ is a random integer between 1 and $r-1$."
   ]
  },
  {
   "cell_type": "markdown",
   "id": "fa6cfe9c",
   "metadata": {},
   "source": [
    "## What do we have left to do?\n",
    "\n",
    "1. Now that we have the phase $\\phi$, we need to find $r$. We can do this with a [continued fractions](https://en.wikipedia.org/wiki/Continued_fraction) algorithm (or if you're lazy, just by looking at the result & guessing).\n",
    "\n",
    "2. What is the circuit $U$? And in doing the phase estimation algorithm, isn't the operation $U^{2j}$ exponentially scaling? Luckily to calculate $U^{2^j}|y\\rangle = |a^{2^j}y \\bmod N\\rangle$, we can just square $a$, $j$ times.\n",
    "\n",
    "    For the example below (i.e. factorising 15) I will give the required $U$ operation. But this is a bottleneck of Shor's algorithm."
   ]
  },
  {
   "cell_type": "markdown",
   "id": "de7ce6cf",
   "metadata": {},
   "source": [
    "## Some other quick notes\n",
    "1. For an $L$-bit number $N$, you will need to begin with $t = 2L + 1 + log(2 + \\frac{1}{\\epsilon})$ qubits on the counting register, where $\\epsilon$ is the phase estimation error.\n",
    "2. The Hadamard gates require $O(L)$ gates, and the inverse fourier transform $O(L^2)$ gates. The most costly part of the procedure is the modular exponentiation (i.e. applying the matrix $U$). This scales as $O(L^3)$."
   ]
  },
  {
   "cell_type": "markdown",
   "id": "276035c7",
   "metadata": {},
   "source": [
    "# Task\n",
    "Perform factorisation for $N = 15$. This extract from: M. Nielsen and I. Chuang, \"Quantum Computation and Quantum Information\" may be helpful.\n",
    "\n",
    "![image1](images/qiqc.png)\n",
    "\n",
    "Below is a function which applies a controlled-$U$ in qiskit, with random number $a$ and repeated *power* times."
   ]
  },
  {
   "cell_type": "code",
   "execution_count": null,
   "id": "eaa3b6a0",
   "metadata": {},
   "outputs": [],
   "source": [
    "def c_amod15(a, power):\n",
    "    \"\"\"Controlled multiplication by a mod 15\"\"\"\n",
    "    if a not in [2,7,8,11,13]:\n",
    "        raise ValueError(\"'a' must be 2,7,8,11 or 13\")\n",
    "    U = QuantumCircuit(4)        \n",
    "    for iteration in range(power):\n",
    "        if a in [2,13]:\n",
    "            U.swap(0,1)\n",
    "            U.swap(1,2)\n",
    "            U.swap(2,3)\n",
    "        if a in [7,8]:\n",
    "            U.swap(2,3)\n",
    "            U.swap(1,2)\n",
    "            U.swap(0,1)\n",
    "        if a == 11:\n",
    "            U.swap(1,3)\n",
    "            U.swap(0,2)\n",
    "        if a in [7,11,13]:\n",
    "            for q in range(4):\n",
    "                U.x(q)\n",
    "    U = U.to_gate()\n",
    "    U.name = \"%i^%i mod 15\" % (a, power)\n",
    "    c_U = U.control()\n",
    "    return c_U"
   ]
  }
 ],
 "metadata": {
  "kernelspec": {
   "display_name": "Python 3 (ipykernel)",
   "language": "python",
   "name": "python3"
  },
  "language_info": {
   "codemirror_mode": {
    "name": "ipython",
    "version": 3
   },
   "file_extension": ".py",
   "mimetype": "text/x-python",
   "name": "python",
   "nbconvert_exporter": "python",
   "pygments_lexer": "ipython3",
   "version": "3.9.9"
  }
 },
 "nbformat": 4,
 "nbformat_minor": 5
}
